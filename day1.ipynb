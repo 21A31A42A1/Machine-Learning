{
  "nbformat": 4,
  "nbformat_minor": 0,
  "metadata": {
    "colab": {
      "provenance": []
    },
    "kernelspec": {
      "name": "python3",
      "display_name": "Python 3"
    },
    "language_info": {
      "name": "python"
    }
  },
  "cells": [
    {
      "cell_type": "code",
      "execution_count": null,
      "metadata": {
        "colab": {
          "base_uri": "https://localhost:8080/"
        },
        "id": "kVR3Yb8665IL",
        "outputId": "4589cbf9-2097-4a91-b898-0a93db9b7fe6"
      },
      "outputs": [
        {
          "output_type": "stream",
          "name": "stdout",
          "text": [
            "Colab only includes TensorFlow 2.x; %tensorflow_version has no effect.\n",
            "<module 'tensorflow._api.v2.version' from '/usr/local/lib/python3.10/dist-packages/tensorflow/_api/v2/version/__init__.py'>\n"
          ]
        }
      ],
      "source": [
        "%tensorflow_version 2.x\n",
        "import tensorflow as tf\n",
        "print(tf.version)"
      ]
    },
    {
      "cell_type": "code",
      "source": [
        "t = tf.ones([2,2,2,2,1])\n",
        "print(t)"
      ],
      "metadata": {
        "colab": {
          "base_uri": "https://localhost:8080/"
        },
        "id": "LrnpAzMS7QKf",
        "outputId": "6a8f3ec8-1956-4417-b6aa-e7a914859430"
      },
      "execution_count": null,
      "outputs": [
        {
          "output_type": "stream",
          "name": "stdout",
          "text": [
            "tf.Tensor(\n",
            "[[[[[1.]\n",
            "    [1.]]\n",
            "\n",
            "   [[1.]\n",
            "    [1.]]]\n",
            "\n",
            "\n",
            "  [[[1.]\n",
            "    [1.]]\n",
            "\n",
            "   [[1.]\n",
            "    [1.]]]]\n",
            "\n",
            "\n",
            "\n",
            " [[[[1.]\n",
            "    [1.]]\n",
            "\n",
            "   [[1.]\n",
            "    [1.]]]\n",
            "\n",
            "\n",
            "  [[[1.]\n",
            "    [1.]]\n",
            "\n",
            "   [[1.]\n",
            "    [1.]]]]], shape=(2, 2, 2, 2, 1), dtype=float32)\n"
          ]
        }
      ]
    },
    {
      "cell_type": "code",
      "source": [
        "t1 = tf.zeros([2,2,2,2,2,2])\n",
        "t = tf.reshape(t1, [4,4,-1])\n",
        "print(t1)\n",
        "print(t)"
      ],
      "metadata": {
        "colab": {
          "base_uri": "https://localhost:8080/"
        },
        "id": "nTrRyOUw7vpq",
        "outputId": "6b2d2002-e14f-47d6-c8d1-dba6a9750ec5"
      },
      "execution_count": null,
      "outputs": [
        {
          "output_type": "stream",
          "name": "stdout",
          "text": [
            "tf.Tensor(\n",
            "[[[[[[0. 0.]\n",
            "     [0. 0.]]\n",
            "\n",
            "    [[0. 0.]\n",
            "     [0. 0.]]]\n",
            "\n",
            "\n",
            "   [[[0. 0.]\n",
            "     [0. 0.]]\n",
            "\n",
            "    [[0. 0.]\n",
            "     [0. 0.]]]]\n",
            "\n",
            "\n",
            "\n",
            "  [[[[0. 0.]\n",
            "     [0. 0.]]\n",
            "\n",
            "    [[0. 0.]\n",
            "     [0. 0.]]]\n",
            "\n",
            "\n",
            "   [[[0. 0.]\n",
            "     [0. 0.]]\n",
            "\n",
            "    [[0. 0.]\n",
            "     [0. 0.]]]]]\n",
            "\n",
            "\n",
            "\n",
            "\n",
            " [[[[[0. 0.]\n",
            "     [0. 0.]]\n",
            "\n",
            "    [[0. 0.]\n",
            "     [0. 0.]]]\n",
            "\n",
            "\n",
            "   [[[0. 0.]\n",
            "     [0. 0.]]\n",
            "\n",
            "    [[0. 0.]\n",
            "     [0. 0.]]]]\n",
            "\n",
            "\n",
            "\n",
            "  [[[[0. 0.]\n",
            "     [0. 0.]]\n",
            "\n",
            "    [[0. 0.]\n",
            "     [0. 0.]]]\n",
            "\n",
            "\n",
            "   [[[0. 0.]\n",
            "     [0. 0.]]\n",
            "\n",
            "    [[0. 0.]\n",
            "     [0. 0.]]]]]], shape=(2, 2, 2, 2, 2, 2), dtype=float32)\n",
            "tf.Tensor(\n",
            "[[[0. 0. 0. 0.]\n",
            "  [0. 0. 0. 0.]\n",
            "  [0. 0. 0. 0.]\n",
            "  [0. 0. 0. 0.]]\n",
            "\n",
            " [[0. 0. 0. 0.]\n",
            "  [0. 0. 0. 0.]\n",
            "  [0. 0. 0. 0.]\n",
            "  [0. 0. 0. 0.]]\n",
            "\n",
            " [[0. 0. 0. 0.]\n",
            "  [0. 0. 0. 0.]\n",
            "  [0. 0. 0. 0.]\n",
            "  [0. 0. 0. 0.]]\n",
            "\n",
            " [[0. 0. 0. 0.]\n",
            "  [0. 0. 0. 0.]\n",
            "  [0. 0. 0. 0.]\n",
            "  [0. 0. 0. 0.]]], shape=(4, 4, 4), dtype=float32)\n"
          ]
        }
      ]
    }
  ]
}